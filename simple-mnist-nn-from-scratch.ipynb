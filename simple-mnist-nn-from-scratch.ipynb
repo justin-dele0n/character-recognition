{
 "cells": [
  {
   "cell_type": "markdown",
   "metadata": {
    "papermill": {
     "duration": 0.012295,
     "end_time": "2020-11-24T15:33:44.585418",
     "exception": false,
     "start_time": "2020-11-24T15:33:44.573123",
     "status": "completed"
    },
    "tags": []
   },
   "source": [
    "# Simple MNIST NN from scratch\n",
    "\n",
    "The following code goes through a simple two-layer neural network which is trained unter the MNIST diget dataset. It's a small personal project that I found interesting and goes through the basics of LLM's without the usage of large libraries that would make it simplier like sklearn, etc"
   ]
  },
  {
   "cell_type": "code",
   "execution_count": 1,
   "metadata": {
    "_cell_guid": "b1076dfc-b9ad-4769-8c92-a6c4dae69d19",
    "_uuid": "8f2839f25d086af736a60e9eeb907d3b93b6e0e5",
    "execution": {
     "iopub.execute_input": "2020-11-24T15:33:44.617819Z",
     "iopub.status.busy": "2020-11-24T15:33:44.616734Z",
     "iopub.status.idle": "2020-11-24T15:33:48.545917Z",
     "shell.execute_reply": "2020-11-24T15:33:48.545192Z"
    },
    "papermill": {
     "duration": 3.947576,
     "end_time": "2020-11-24T15:33:48.546057",
     "exception": false,
     "start_time": "2020-11-24T15:33:44.598481",
     "status": "completed"
    },
    "tags": []
   },
   "outputs": [],
   "source": [
    "import numpy as np\n",
    "import pandas as pd\n",
    "from matplotlib import pyplot as plt\n",
    "\n",
    "data = pd.read_csv('/Users/justind/Documents/character-recognition/train.csv')"
   ]
  },
  {
   "cell_type": "code",
   "execution_count": 2,
   "metadata": {
    "execution": {
     "iopub.execute_input": "2020-11-24T15:33:48.577955Z",
     "iopub.status.busy": "2020-11-24T15:33:48.576778Z",
     "iopub.status.idle": "2020-11-24T15:33:49.353469Z",
     "shell.execute_reply": "2020-11-24T15:33:49.352724Z"
    },
    "papermill": {
     "duration": 0.795759,
     "end_time": "2020-11-24T15:33:49.353603",
     "exception": false,
     "start_time": "2020-11-24T15:33:48.557844",
     "status": "completed"
    },
    "tags": []
   },
   "outputs": [],
   "source": [
    "\n",
    "\n",
    "data = np.array(data)\n",
    "m, n = data.shape # row(each image) & column (values for images, close to 784, img are 28x28)\n",
    "np.random.shuffle(data) # shuffle before splitting into dev and training sets\n",
    "\n",
    "\n",
    "# data that that will be used to train the model\n",
    "data_dev = data[0:1000].T #columns are now image data, rows are an individual image per row\n",
    "Y_dev = data_dev[0]\n",
    "X_dev = data_dev[1:n]\n",
    "X_dev = X_dev / 255.\n",
    "\n",
    "\n",
    "# data set asside to use later and prevent model for overfitting and used to test model before using final test set values\n",
    "data_train = data[1000:m].T\n",
    "Y_train = data_train[0]\n",
    "X_train = data_train[1:n]\n",
    "X_train = X_train / 255.\n",
    "_,m_train = X_train.shape"
   ]
  },
  {
   "cell_type": "code",
   "execution_count": 3,
   "metadata": {
    "execution": {
     "iopub.execute_input": "2020-11-24T15:33:49.385574Z",
     "iopub.status.busy": "2020-11-24T15:33:49.384483Z",
     "iopub.status.idle": "2020-11-24T15:33:49.388342Z",
     "shell.execute_reply": "2020-11-24T15:33:49.388923Z"
    },
    "papermill": {
     "duration": 0.023743,
     "end_time": "2020-11-24T15:33:49.389054",
     "exception": false,
     "start_time": "2020-11-24T15:33:49.365311",
     "status": "completed"
    },
    "tags": []
   },
   "outputs": [
    {
     "data": {
      "text/plain": [
       "array([8, 4, 1, ..., 1, 7, 0])"
      ]
     },
     "execution_count": 3,
     "metadata": {},
     "output_type": "execute_result"
    }
   ],
   "source": [
    "Y_train"
   ]
  },
  {
   "cell_type": "code",
   "execution_count": 4,
   "metadata": {},
   "outputs": [],
   "source": [
    "'''\n",
    "layer(num): represents the current layer in the LLM, \n",
    "weight(num): represents the weights for a specific layer in the LLM\n",
    "bias(num): represents the biases for a specific layer in the LLM\n",
    "\n",
    "note: that the if there's a \"d\" before any variable it represents the derivative \n",
    "    or amount of change for certain values depending on it's application\n",
    "'''\n",
    "def init_params(): \n",
    "    weight1 = np.random.rand(10, 784) - 0.5\n",
    "    bias1 = np.random.rand(10, 1) - 0.5\n",
    "    weight2 = np.random.rand(10, 10) - 0.5\n",
    "    bias2 = np.random.rand(10, 1) - 0.5\n",
    "    return weight1, bias1, weight2, bias2\n",
    "\n",
    "def ReLU(layer):\n",
    "    layer = tanh(layer)\n",
    "    return np.maximum(layer, 0)\n",
    "\n",
    "def tanh(layer):\n",
    "    return (np.exp(layer) - np.exp(-layer)) / (np.exp(layer) + np.exp(-layer))\n",
    "\n",
    "#output later and returns probability for \"value possibility\" current value\n",
    "def softmax(layer):\n",
    "    A = np.exp(layer) / sum(np.exp(layer))\n",
    "    return A\n",
    "\n",
    "def forward_prop(weight1, bias1, weight2, bias2, X):\n",
    "    layer1= weight1.dot(X) + bias1 #hidden layer \n",
    "    activation1 = ReLU(layer1) # first layer with activation function which used ReLu and tanh propagation\n",
    "    layer2 = weight2.dot(activation1) + bias2 #output layer\n",
    "    activation2 = softmax(layer2) #probability per value\n",
    "    return layer1, activation1, layer2, activation2\n",
    "\n",
    "def ReLU_deriv(layer): #ReLU activation layer derivative with tanH derivative incorporated\n",
    "    layer = tanH_deriv(layer)\n",
    "    return layer > 0\n",
    "\n",
    "def tanH_deriv(layer): #tanH activation layer derivative \n",
    "    layer = 1 - np.square(tanh(layer))\n",
    "    return layer\n",
    "\n",
    "#matrix 10xm, where 1 is assigned to the expected value in the row. ex: expected=4, so matrix column for specifc value would be all 0's and index 4 would be 1 \n",
    "def one_hot(Y):\n",
    "    one_hot_Y = np.zeros((Y.size, Y.max() + 1))\n",
    "    one_hot_Y[np.arange(Y.size), Y] = 1\n",
    "    one_hot_Y = one_hot_Y.T\n",
    "    return one_hot_Y\n",
    "\n",
    "# weights and biasies are created after values/predictions are made\n",
    "# output layer -> input layer calculating error, finding weights and biases associate to the error and modifying those given values\n",
    "def backward_prop(layer1, activation1, layer2, activation2, weight1, weight2, X, Y):\n",
    "    #finding error from 2nd layer(output predictions)\n",
    "    one_hot_Y = one_hot(Y) # value that should occur\n",
    "    dlayer2 = activation2 - one_hot_Y # output layer error | prediction - result that should occur \n",
    "    dweight2 = 1 / m * dlayer2.dot(activation1.T) # weights error with respect to layer 2\n",
    "    dbias2 = 1 / m * np.sum(dlayer2) # average of layer 2, how inaccurate it is \n",
    "    #finding error from first layer\n",
    "    dlayer1= weight2.T.dot(dlayer2) * ReLU_deriv(layer1) #\"error from second layer and applying weights in reverse to get errors from first layer (hidden layer)\" (forward propagation in reverse)\n",
    "    dweight1 = 1 / m * dlayer1.dot(X.T) # how much the weights contribution to error in layer 1\n",
    "    dbias1 = 1 / m * np.sum(dlayer1) # how much to nudge biases\n",
    "    return dweight1, dbias1, dweight2, dbias2\n",
    "\n",
    "#updating parameters after backwards-prop and finding errors given\n",
    "#alpha is the learning rate\n",
    "def update_params(weight1, bias1, weight2, bias2, dweight1, dbias1, dweight2, dbias2, alpha):\n",
    "    weight1 = weight1 - alpha * dweight1\n",
    "    bias1 = bias1 - alpha * dbias1    \n",
    "    weight2 = weight2 - alpha * dweight2  \n",
    "    bias2 = bias2 - alpha * dbias2    \n",
    "    return weight1, bias1, weight2, bias2"
   ]
  },
  {
   "cell_type": "code",
   "execution_count": 5,
   "metadata": {
    "execution": {
     "iopub.execute_input": "2020-11-24T15:33:49.496820Z",
     "iopub.status.busy": "2020-11-24T15:33:49.493109Z",
     "iopub.status.idle": "2020-11-24T15:33:49.499268Z",
     "shell.execute_reply": "2020-11-24T15:33:49.499782Z"
    },
    "papermill": {
     "duration": 0.026744,
     "end_time": "2020-11-24T15:33:49.499906",
     "exception": false,
     "start_time": "2020-11-24T15:33:49.473162",
     "status": "completed"
    },
    "tags": []
   },
   "outputs": [],
   "source": [
    "def get_predictions(activation2):\n",
    "    return np.argmax(activation2, 0)\n",
    "\n",
    "def get_accuracy(predictions, Y):\n",
    "    print(predictions, Y)\n",
    "    return np.sum(predictions == Y) / Y.size\n",
    "\n",
    "\n",
    "#performing the entire training of the model consisting of forward and backward propagations, and displaying error for every 10 iterations out of 500 total iterations\n",
    "def gradient_descent(X, Y, alpha, iterations):\n",
    "    weight1, bias1, weight2, bias2 = init_params()\n",
    "    for i in range(iterations):\n",
    "        layer1, activation1, layer2, activation2 = forward_prop(weight1, bias1, weight2, bias2, X)\n",
    "        dweight1, dbias1, dweight2, dbias2 = backward_prop(layer1, activation1, layer2, activation2, weight1, weight2, X, Y)\n",
    "        weight1, bias1, weight2, bias2 = update_params(weight1, bias1, weight2, bias2, dweight1, dbias1, dweight2, dbias2, alpha)\n",
    "        if i % 10 == 0:\n",
    "            print(\"Iteration: \", i)\n",
    "            predictions = get_predictions(activation2)\n",
    "            print(get_accuracy(predictions, Y))\n",
    "    return weight1, bias1, weight2, bias2"
   ]
  },
  {
   "cell_type": "code",
   "execution_count": 6,
   "metadata": {
    "execution": {
     "iopub.execute_input": "2020-11-24T15:33:49.529813Z",
     "iopub.status.busy": "2020-11-24T15:33:49.529067Z",
     "iopub.status.idle": "2020-11-24T15:34:33.915250Z",
     "shell.execute_reply": "2020-11-24T15:34:33.914598Z"
    },
    "papermill": {
     "duration": 44.403186,
     "end_time": "2020-11-24T15:34:33.915380",
     "exception": false,
     "start_time": "2020-11-24T15:33:49.512194",
     "status": "completed"
    },
    "tags": []
   },
   "outputs": [
    {
     "name": "stdout",
     "output_type": "stream",
     "text": [
      "Iteration:  0\n",
      "[1 6 4 ... 1 4 9] [8 4 1 ... 1 7 0]\n",
      "0.08617073170731707\n",
      "Iteration:  10\n",
      "[2 6 1 ... 1 7 0] [8 4 1 ... 1 7 0]\n",
      "0.19439024390243903\n",
      "Iteration:  20\n",
      "[3 7 1 ... 1 7 0] [8 4 1 ... 1 7 0]\n",
      "0.2775609756097561\n",
      "Iteration:  30\n",
      "[3 4 1 ... 1 7 0] [8 4 1 ... 1 7 0]\n",
      "0.33165853658536587\n",
      "Iteration:  40\n",
      "[3 4 1 ... 1 7 0] [8 4 1 ... 1 7 0]\n",
      "0.3581463414634146\n",
      "Iteration:  50\n",
      "[3 4 1 ... 1 7 0] [8 4 1 ... 1 7 0]\n",
      "0.3743658536585366\n",
      "Iteration:  60\n",
      "[3 4 1 ... 1 1 0] [8 4 1 ... 1 7 0]\n",
      "0.3885609756097561\n",
      "Iteration:  70\n",
      "[3 4 1 ... 1 1 0] [8 4 1 ... 1 7 0]\n",
      "0.40439024390243905\n",
      "Iteration:  80\n",
      "[3 4 1 ... 1 1 0] [8 4 1 ... 1 7 0]\n",
      "0.4173170731707317\n",
      "Iteration:  90\n",
      "[3 4 1 ... 1 1 0] [8 4 1 ... 1 7 0]\n",
      "0.4279268292682927\n",
      "Iteration:  100\n",
      "[3 4 1 ... 1 1 0] [8 4 1 ... 1 7 0]\n",
      "0.43729268292682927\n",
      "Iteration:  110\n",
      "[3 4 1 ... 1 1 0] [8 4 1 ... 1 7 0]\n",
      "0.45134146341463416\n",
      "Iteration:  120\n",
      "[3 4 1 ... 1 1 0] [8 4 1 ... 1 7 0]\n",
      "0.4632926829268293\n",
      "Iteration:  130\n",
      "[3 4 1 ... 1 1 0] [8 4 1 ... 1 7 0]\n",
      "0.4733414634146341\n",
      "Iteration:  140\n",
      "[3 4 1 ... 1 1 0] [8 4 1 ... 1 7 0]\n",
      "0.4839512195121951\n",
      "Iteration:  150\n",
      "[3 4 1 ... 1 1 0] [8 4 1 ... 1 7 0]\n",
      "0.49817073170731707\n",
      "Iteration:  160\n",
      "[3 4 1 ... 1 1 0] [8 4 1 ... 1 7 0]\n",
      "0.5108292682926829\n",
      "Iteration:  170\n",
      "[3 4 1 ... 1 1 0] [8 4 1 ... 1 7 0]\n",
      "0.5355365853658537\n",
      "Iteration:  180\n",
      "[3 4 1 ... 1 1 0] [8 4 1 ... 1 7 0]\n",
      "0.5450487804878049\n",
      "Iteration:  190\n",
      "[3 4 1 ... 1 1 0] [8 4 1 ... 1 7 0]\n",
      "0.555439024390244\n",
      "Iteration:  200\n",
      "[3 4 1 ... 1 1 0] [8 4 1 ... 1 7 0]\n",
      "0.5657317073170731\n",
      "Iteration:  210\n",
      "[3 4 1 ... 1 1 0] [8 4 1 ... 1 7 0]\n",
      "0.5772195121951219\n",
      "Iteration:  220\n",
      "[3 4 1 ... 1 1 0] [8 4 1 ... 1 7 0]\n",
      "0.5850487804878048\n",
      "Iteration:  230\n",
      "[3 4 1 ... 1 1 0] [8 4 1 ... 1 7 0]\n",
      "0.5925121951219512\n",
      "Iteration:  240\n",
      "[3 4 1 ... 1 1 0] [8 4 1 ... 1 7 0]\n",
      "0.6019512195121951\n",
      "Iteration:  250\n",
      "[3 4 1 ... 1 1 0] [8 4 1 ... 1 7 0]\n",
      "0.6130975609756097\n",
      "Iteration:  260\n",
      "[3 4 1 ... 1 1 0] [8 4 1 ... 1 7 0]\n",
      "0.621780487804878\n",
      "Iteration:  270\n",
      "[3 4 1 ... 1 1 0] [8 4 1 ... 1 7 0]\n",
      "0.6290731707317073\n",
      "Iteration:  280\n",
      "[3 4 1 ... 1 1 0] [8 4 1 ... 1 7 0]\n",
      "0.6349024390243903\n",
      "Iteration:  290\n",
      "[3 4 1 ... 1 1 0] [8 4 1 ... 1 7 0]\n",
      "0.6408292682926829\n",
      "Iteration:  300\n",
      "[3 4 1 ... 1 1 0] [8 4 1 ... 1 7 0]\n",
      "0.647390243902439\n",
      "Iteration:  310\n",
      "[3 4 1 ... 1 1 0] [8 4 1 ... 1 7 0]\n",
      "0.6538536585365854\n",
      "Iteration:  320\n",
      "[8 4 1 ... 1 1 0] [8 4 1 ... 1 7 0]\n",
      "0.6606585365853659\n",
      "Iteration:  330\n",
      "[8 4 1 ... 1 1 0] [8 4 1 ... 1 7 0]\n",
      "0.6734634146341464\n",
      "Iteration:  340\n",
      "[8 4 1 ... 1 1 0] [8 4 1 ... 1 7 0]\n",
      "0.68\n",
      "Iteration:  350\n",
      "[8 4 1 ... 1 1 0] [8 4 1 ... 1 7 0]\n",
      "0.6863902439024391\n",
      "Iteration:  360\n",
      "[8 4 1 ... 1 1 0] [8 4 1 ... 1 7 0]\n",
      "0.6927560975609756\n",
      "Iteration:  370\n",
      "[8 4 1 ... 1 1 0] [8 4 1 ... 1 7 0]\n",
      "0.6975121951219512\n",
      "Iteration:  380\n",
      "[8 4 1 ... 1 1 0] [8 4 1 ... 1 7 0]\n",
      "0.7022682926829268\n",
      "Iteration:  390\n",
      "[8 4 1 ... 1 1 0] [8 4 1 ... 1 7 0]\n",
      "0.7064390243902439\n",
      "Iteration:  400\n",
      "[8 4 1 ... 1 1 0] [8 4 1 ... 1 7 0]\n",
      "0.7181219512195122\n",
      "Iteration:  410\n",
      "[8 4 1 ... 1 1 0] [8 4 1 ... 1 7 0]\n",
      "0.7219268292682927\n",
      "Iteration:  420\n",
      "[8 4 1 ... 1 1 0] [8 4 1 ... 1 7 0]\n",
      "0.7262439024390244\n",
      "Iteration:  430\n",
      "[8 4 1 ... 1 1 0] [8 4 1 ... 1 7 0]\n",
      "0.7318536585365853\n",
      "Iteration:  440\n",
      "[8 4 1 ... 1 1 0] [8 4 1 ... 1 7 0]\n",
      "0.7363658536585366\n",
      "Iteration:  450\n",
      "[8 4 1 ... 1 1 0] [8 4 1 ... 1 7 0]\n",
      "0.7400731707317073\n",
      "Iteration:  460\n",
      "[8 4 1 ... 1 1 0] [8 4 1 ... 1 7 0]\n",
      "0.7486829268292683\n",
      "Iteration:  470\n",
      "[8 4 1 ... 1 1 0] [8 4 1 ... 1 7 0]\n",
      "0.7519756097560976\n",
      "Iteration:  480\n",
      "[8 4 1 ... 1 1 0] [8 4 1 ... 1 7 0]\n",
      "0.755\n",
      "Iteration:  490\n",
      "[8 4 1 ... 1 1 0] [8 4 1 ... 1 7 0]\n",
      "0.7579268292682927\n"
     ]
    }
   ],
   "source": [
    "weight1, bias1, weight2, bias2 = gradient_descent(X_train, Y_train, 0.10, 500)"
   ]
  },
  {
   "cell_type": "markdown",
   "metadata": {
    "papermill": {
     "duration": 0.03222,
     "end_time": "2020-11-24T15:34:33.980634",
     "exception": false,
     "start_time": "2020-11-24T15:34:33.948414",
     "status": "completed"
    },
    "tags": []
   },
   "source": [
    "~83% accuracy on training set."
   ]
  },
  {
   "cell_type": "code",
   "execution_count": 7,
   "metadata": {
    "execution": {
     "iopub.execute_input": "2020-11-24T15:34:34.058947Z",
     "iopub.status.busy": "2020-11-24T15:34:34.058192Z",
     "iopub.status.idle": "2020-11-24T15:34:34.061542Z",
     "shell.execute_reply": "2020-11-24T15:34:34.060921Z"
    },
    "papermill": {
     "duration": 0.048197,
     "end_time": "2020-11-24T15:34:34.061656",
     "exception": false,
     "start_time": "2020-11-24T15:34:34.013459",
     "status": "completed"
    },
    "tags": []
   },
   "outputs": [],
   "source": [
    "def make_predictions(X, weight1, bias1, weight2, bias2):\n",
    "    _, _, _, activation2 = forward_prop(weight1, bias1, weight2, bias2, X)\n",
    "    predictions = get_predictions(activation2)\n",
    "    return predictions\n",
    "\n",
    "def test_prediction(index, weight1, bias1, weight2, bias2):\n",
    "    current_image = X_train[:, index, None]\n",
    "    prediction = make_predictions(current_image, weight1, bias1, weight2, bias2)\n",
    "    label = Y_train[index]\n",
    "    print(\"Prediction: \", prediction)\n",
    "    print(\"Label: \", label)\n",
    "    \n",
    "    current_image = current_image.reshape((28, 28)) * 255\n",
    "    plt.gray()\n",
    "    plt.imshow(current_image, interpolation='nearest')\n",
    "    plt.show()"
   ]
  },
  {
   "cell_type": "markdown",
   "metadata": {
    "papermill": {
     "duration": 0.032382,
     "end_time": "2020-11-24T15:34:34.126664",
     "exception": false,
     "start_time": "2020-11-24T15:34:34.094282",
     "status": "completed"
    },
    "tags": []
   },
   "source": [
    "Let's look at a couple of examples:"
   ]
  },
  {
   "cell_type": "code",
   "execution_count": 8,
   "metadata": {
    "execution": {
     "iopub.execute_input": "2020-11-24T15:34:34.198764Z",
     "iopub.status.busy": "2020-11-24T15:34:34.197926Z",
     "iopub.status.idle": "2020-11-24T15:34:34.858256Z",
     "shell.execute_reply": "2020-11-24T15:34:34.857536Z"
    },
    "papermill": {
     "duration": 0.699008,
     "end_time": "2020-11-24T15:34:34.858375",
     "exception": false,
     "start_time": "2020-11-24T15:34:34.159367",
     "status": "completed"
    },
    "tags": []
   },
   "outputs": [
    {
     "name": "stdout",
     "output_type": "stream",
     "text": [
      "Prediction:  [8]\n",
      "Label:  8\n"
     ]
    },
    {
     "data": {
      "image/png": "[encoded data removed]",
      "text/plain": [
       "<Figure size 640x480 with 1 Axes>"
      ]
     },
     "metadata": {},
     "output_type": "display_data"
    },
    {
     "name": "stdout",
     "output_type": "stream",
     "text": [
      "Prediction:  [4]\n",
      "Label:  4\n"
     ]
    },
    {
     "data": {
      "image/png": "[encoded data removed]",
      "text/plain": [
       "<Figure size 640x480 with 1 Axes>"
      ]
     },
     "metadata": {},
     "output_type": "display_data"
    },
    {
     "name": "stdout",
     "output_type": "stream",
     "text": [
      "Prediction:  [1]\n",
      "Label:  1\n"
     ]
    },
    {
     "data": {
      "image/png": "[encoded data removed]",
      "text/plain": [
       "<Figure size 640x480 with 1 Axes>"
      ]
     },
     "metadata": {},
     "output_type": "display_data"
    },
    {
     "name": "stdout",
     "output_type": "stream",
     "text": [
      "Prediction:  [6]\n",
      "Label:  6\n"
     ]
    },
    {
     "data": {
      "image/png": "[encoded data removed]",
      "text/plain": [
       "<Figure size 640x480 with 1 Axes>"
      ]
     },
     "metadata": {},
     "output_type": "display_data"
    }
   ],
   "source": [
    "test_prediction(0, weight1, bias1, weight2, bias2)\n",
    "test_prediction(1, weight1, bias1, weight2, bias2)\n",
    "test_prediction(2, weight1, bias1, weight2, bias2)\n",
    "test_prediction(3, weight1, bias1, weight2, bias2)"
   ]
  },
  {
   "cell_type": "markdown",
   "metadata": {
    "papermill": {
     "duration": 0.037333,
     "end_time": "2020-11-24T15:34:34.933186",
     "exception": false,
     "start_time": "2020-11-24T15:34:34.895853",
     "status": "completed"
    },
    "tags": []
   },
   "source": [
    "Finally, let's find the accuracy on the dev set:"
   ]
  },
  {
   "cell_type": "code",
   "execution_count": 9,
   "metadata": {
    "execution": {
     "iopub.execute_input": "2020-11-24T15:34:35.013161Z",
     "iopub.status.busy": "2020-11-24T15:34:35.012371Z",
     "iopub.status.idle": "2020-11-24T15:34:35.033284Z",
     "shell.execute_reply": "2020-11-24T15:34:35.032394Z"
    },
    "papermill": {
     "duration": 0.062985,
     "end_time": "2020-11-24T15:34:35.033457",
     "exception": false,
     "start_time": "2020-11-24T15:34:34.970472",
     "status": "completed"
    },
    "tags": []
   },
   "outputs": [
    {
     "name": "stdout",
     "output_type": "stream",
     "text": [
      "[6 9 2 9 9 6 6 2 0 7 8 2 4 8 7 1 2 4 9 0 3 1 1 7 2 0 3 3 1 8 8 4 6 1 9 1 0\n",
      " 2 4 0 6 2 9 0 1 0 3 1 8 4 7 2 0 7 6 7 8 8 4 8 0 8 1 6 7 5 1 8 2 7 8 6 2 8\n",
      " 3 2 6 8 3 2 9 1 2 0 1 4 4 2 5 1 4 2 1 4 3 1 8 2 1 1 0 0 2 4 7 0 8 6 8 0 3\n",
      " 1 8 9 1 2 4 8 0 1 7 3 1 4 1 8 5 6 5 8 4 4 0 2 3 7 7 1 8 4 1 9 6 0 6 4 2 0\n",
      " 2 0 0 2 7 5 8 9 7 3 0 8 4 2 9 9 3 0 4 8 0 8 7 7 3 8 1 1 9 0 6 0 0 3 1 4 4\n",
      " 6 4 5 7 0 7 9 8 7 3 4 1 2 4 0 6 6 1 7 2 7 4 7 6 1 6 7 3 0 6 1 5 9 8 8 2 3\n",
      " 7 8 1 9 1 4 7 0 4 0 2 2 5 1 8 9 2 7 1 0 1 6 8 8 7 3 0 6 0 9 0 1 0 4 0 2 6\n",
      " 3 2 6 4 2 8 6 4 5 6 9 0 4 9 3 7 1 3 0 8 1 1 0 0 1 1 4 4 4 0 4 5 1 7 1 1 1\n",
      " 0 2 9 2 6 4 4 4 7 1 2 8 0 8 6 3 4 9 5 4 6 8 5 6 9 0 1 3 6 4 4 7 7 8 6 5 1\n",
      " 2 3 3 1 6 3 3 9 3 7 9 0 4 6 4 0 3 7 4 0 1 4 8 4 2 8 6 9 1 7 1 8 7 9 1 7 0\n",
      " 1 4 0 3 5 1 0 2 0 2 5 1 9 8 0 0 4 3 2 7 8 4 3 5 5 6 6 3 7 8 3 9 2 4 6 3 8\n",
      " 8 7 8 3 5 2 3 1 0 9 8 4 1 1 3 4 7 1 6 1 3 2 8 6 2 7 1 6 1 9 4 0 1 7 6 4 8\n",
      " 2 3 5 1 0 8 1 4 1 4 9 8 0 8 9 6 7 2 7 0 4 6 2 7 5 8 1 6 6 0 1 8 1 4 9 4 7\n",
      " 6 4 7 0 7 7 6 2 3 7 3 2 6 6 0 7 0 4 0 2 8 1 1 6 8 3 3 6 3 6 0 1 5 7 0 4 5\n",
      " 9 7 1 6 1 5 5 4 4 4 3 2 5 1 4 6 1 1 9 6 1 3 1 0 0 8 6 1 6 4 4 3 3 8 7 6 8\n",
      " 9 6 0 2 0 1 0 6 7 1 1 6 3 3 2 5 4 6 2 9 3 9 1 8 4 0 3 9 1 4 3 7 1 8 0 1 9\n",
      " 0 6 3 2 2 4 3 6 2 4 8 5 8 1 9 1 3 6 9 0 7 3 0 6 1 6 3 6 6 1 3 1 5 7 6 1 0\n",
      " 7 8 6 3 1 8 5 8 1 1 7 3 2 1 2 5 1 2 5 5 5 3 4 0 3 4 2 1 4 9 7 2 8 8 7 5 1\n",
      " 1 4 4 1 3 1 4 4 6 1 4 0 0 8 2 4 6 4 9 8 4 1 7 1 1 1 0 1 8 0 7 1 0 0 7 8 8\n",
      " 3 6 0 4 7 4 1 3 9 3 7 4 4 2 0 4 3 8 0 1 6 0 4 7 4 1 1 8 7 8 5 8 4 6 1 4 8\n",
      " 7 0 5 8 1 5 8 1 5 7 7 1 2 1 0 7 1 2 7 5 7 3 3 3 7 0 7 7 8 9 3 6 5 4 1 2 5\n",
      " 4 1 9 1 6 4 3 4 4 6 7 8 0 7 8 1 6 6 9 3 4 7 7 8 1 4 1 4 6 0 3 5 3 7 1 6 5\n",
      " 9 3 8 0 0 8 9 3 6 5 3 4 6 6 0 3 8 0 2 1 1 1 3 9 5 6 9 1 3 0 1 1 3 8 6 9 3\n",
      " 0 7 1 0 7 1 2 1 0 9 8 4 9 8 7 7 1 7 1 2 4 9 5 0 8 8 3 8 1 4 3 6 6 1 5 4 1\n",
      " 6 1 7 7 0 6 6 9 6 7 1 6 0 7 6 0 6 1 7 8 6 5 6 9 2 0 1 7 1 9 7 2 7 6 2 3 9\n",
      " 5 2 9 1 5 2 4 4 8 8 0 1 9 6 1 3 1 4 8 9 8 6 7 8 2 8 1 1 7 7 4 4 1 9 0 1 4\n",
      " 5 0 6 4 9 1 1 4 1 2 4 3 6 4 7 1 4 9 4 6 4 1 8 1 6 9 4 8 0 0 4 8 1 6 6 3 8\n",
      " 1] [2 9 2 9 9 5 6 5 2 7 8 2 9 8 7 1 2 4 9 0 3 8 1 7 2 0 5 3 1 8 8 9 2 3 4 1 0\n",
      " 2 4 0 6 6 9 6 1 0 3 2 8 8 7 2 0 7 6 7 8 8 4 8 0 3 1 6 7 5 1 3 2 7 8 6 2 8\n",
      " 8 3 6 2 3 2 9 2 2 0 1 4 4 2 2 1 4 2 1 4 3 8 8 2 1 7 0 0 2 6 7 2 8 6 8 0 3\n",
      " 1 8 9 1 2 4 8 9 1 7 3 1 9 8 8 5 6 5 3 9 4 0 2 1 7 7 8 8 4 1 5 6 0 6 9 2 0\n",
      " 2 0 5 2 7 5 5 9 5 5 0 8 4 2 9 9 3 5 9 3 0 8 7 7 1 8 8 1 4 0 6 0 0 3 1 9 4\n",
      " 6 4 5 7 0 7 9 8 7 3 4 8 2 4 0 6 6 1 7 2 9 4 7 6 1 6 7 5 0 6 1 8 9 8 8 2 3\n",
      " 7 8 1 9 1 9 3 0 9 0 2 2 5 7 5 9 2 2 1 0 1 2 8 5 7 3 0 5 0 9 0 7 0 4 0 2 6\n",
      " 3 2 6 4 2 8 6 4 5 2 9 0 9 9 3 7 1 8 0 8 1 4 0 0 2 1 4 4 4 0 4 5 1 7 1 8 8\n",
      " 0 8 9 2 6 4 4 4 9 9 2 8 0 8 6 2 4 7 5 4 2 3 5 6 9 0 1 3 4 4 4 7 7 8 6 5 1\n",
      " 2 3 5 1 6 8 3 9 3 7 9 0 2 0 4 0 3 9 4 0 1 9 8 4 2 2 6 9 8 7 9 8 7 9 1 7 0\n",
      " 3 4 0 9 5 1 0 2 0 2 3 8 9 8 0 0 9 3 2 7 8 4 3 5 5 2 6 8 7 8 8 7 2 8 6 5 8\n",
      " 8 7 8 8 5 7 8 1 0 9 2 4 1 8 3 4 7 1 6 8 8 2 5 6 5 9 1 6 1 9 4 0 1 7 6 4 8\n",
      " 2 3 5 1 0 8 1 4 1 9 9 5 0 8 9 6 7 2 7 0 4 6 3 7 5 5 2 6 6 0 1 8 1 6 3 4 7\n",
      " 6 4 7 0 9 8 6 8 3 7 3 2 6 6 0 7 0 9 0 2 8 1 1 5 3 5 5 6 5 6 0 1 5 7 0 9 5\n",
      " 8 7 1 6 1 5 5 4 4 4 5 3 5 1 4 6 2 1 9 6 1 3 1 0 0 8 6 1 6 3 4 3 3 3 9 6 8\n",
      " 9 6 0 2 6 5 0 6 7 1 1 6 3 3 5 5 4 6 2 9 8 9 7 8 4 0 7 9 1 4 3 7 1 8 0 9 9\n",
      " 0 6 8 2 8 6 3 6 2 4 8 5 5 6 4 5 3 6 9 0 7 3 0 6 1 6 3 5 6 1 5 1 5 7 6 1 0\n",
      " 2 2 6 3 1 4 6 8 8 1 7 3 2 1 2 5 1 2 5 5 3 9 4 0 5 4 2 1 4 9 7 2 5 5 7 5 1\n",
      " 1 4 4 1 5 1 9 9 5 1 4 0 0 5 2 4 6 4 9 8 4 1 7 8 1 1 0 1 8 0 7 1 7 5 7 8 8\n",
      " 3 6 0 9 7 6 1 5 9 8 7 9 4 2 0 4 5 8 0 1 1 0 4 7 9 1 3 8 7 8 5 8 9 6 1 9 8\n",
      " 7 0 5 8 1 6 8 1 5 7 7 1 2 1 5 7 2 9 8 5 9 3 3 3 9 0 7 7 8 9 2 5 5 4 7 2 5\n",
      " 2 1 9 1 6 9 3 4 9 2 5 8 0 7 3 1 6 5 9 3 4 2 7 3 1 4 1 4 6 0 3 5 5 7 1 6 5\n",
      " 9 5 5 0 0 5 9 5 6 5 3 4 6 6 0 8 8 0 2 1 1 1 3 9 5 6 4 9 3 0 1 1 3 5 6 9 3\n",
      " 0 7 8 0 7 2 2 1 0 4 8 4 9 3 7 7 2 7 1 2 4 9 5 0 8 3 3 8 1 9 8 6 6 7 5 4 1\n",
      " 0 1 7 4 5 6 6 9 6 9 5 6 0 7 6 0 6 1 7 8 2 5 6 4 2 0 1 7 1 9 7 8 7 6 2 8 9\n",
      " 3 4 9 1 5 2 4 4 8 5 0 1 5 6 1 5 1 4 8 9 8 6 7 8 2 8 1 1 7 7 9 4 1 9 5 2 4\n",
      " 5 5 6 4 9 1 1 4 1 2 4 3 6 9 9 1 4 9 2 7 4 1 8 1 6 9 4 3 0 0 4 8 3 6 6 3 8\n",
      " 1]\n"
     ]
    },
    {
     "data": {
      "text/plain": [
       "0.765"
      ]
     },
     "execution_count": 9,
     "metadata": {},
     "output_type": "execute_result"
    }
   ],
   "source": [
    "dev_predictions = make_predictions(X_dev, weight1, bias1, weight2, bias2)\n",
    "get_accuracy(dev_predictions, Y_dev)"
   ]
  },
  {
   "cell_type": "markdown",
   "metadata": {
    "papermill": {
     "duration": 0.038287,
     "end_time": "2020-11-24T15:34:35.112466",
     "exception": false,
     "start_time": "2020-11-24T15:34:35.074179",
     "status": "completed"
    },
    "tags": []
   },
   "source": [
    "Still 85% accuracy, so our model generalized from the training data pretty well."
   ]
  }
 ],
 "metadata": {
  "kernelspec": {
   "display_name": "Python 3",
   "language": "python",
   "name": "python3"
  },
  "language_info": {
   "codemirror_mode": {
    "name": "ipython",
    "version": 3
   },
   "file_extension": ".py",
   "mimetype": "text/x-python",
   "name": "python",
   "nbconvert_exporter": "python",
   "pygments_lexer": "ipython3",
   "version": "3.11.5"
  },
  "papermill": {
   "duration": 55.320944,
   "end_time": "2020-11-24T15:34:35.258832",
   "environment_variables": {},
   "exception": null,
   "input_path": "__notebook__.ipynb",
   "output_path": "__notebook__.ipynb",
   "parameters": {},
   "start_time": "2020-11-24T15:33:39.937888",
   "version": "2.1.0"
  }
 },
 "nbformat": 4,
 "nbformat_minor": 4
}
